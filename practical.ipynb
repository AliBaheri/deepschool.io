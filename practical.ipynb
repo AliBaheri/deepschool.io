{
 "cells": [
  {
   "cell_type": "code",
   "execution_count": 1,
   "metadata": {
    "collapsed": false,
    "deletable": true,
    "editable": true
   },
   "outputs": [
    {
     "name": "stderr",
     "output_type": "stream",
     "text": [
      "Using Theano backend.\n"
     ]
    }
   ],
   "source": [
    "import pandas as pd\n",
    "import pandas as pd\n",
    "import numpy as np\n",
    "\n",
    "from keras.models import Sequential\n",
    "from keras.layers import Dense, Activation, Embedding, Merge, Flatten\n",
    "\n",
    "import keras.backend as K\n",
    "\n",
    "from sklearn.model_selection import train_test_split\n",
    "from sklearn.preprocessing import StandardScaler, MinMaxScaler\n",
    "\n",
    "import matplotlib.pyplot as plt\n",
    "%matplotlib inline"
   ]
  },
  {
   "cell_type": "code",
   "execution_count": 4,
   "metadata": {
    "collapsed": false,
    "deletable": true,
    "editable": true
   },
   "outputs": [
    {
     "name": "stdout",
     "output_type": "stream",
     "text": [
      "(2000000, 14)\n",
      "CPU times: user 10.7 s, sys: 5.3 s, total: 16 s\n",
      "Wall time: 16.3 s\n"
     ]
    }
   ],
   "source": [
    "%%time\n",
    "df = pd.read_pickle(\"data_2016_subset.pkl\")\n",
    "print(df.shape)\n",
    "df.head()"
   ]
  },
  {
   "cell_type": "code",
   "execution_count": 5,
   "metadata": {
    "collapsed": true,
    "deletable": true,
    "editable": true
   },
   "outputs": [],
   "source": [
    "# Basic preprocessing\n",
    "df = df[df.dest_country_codes.notnull() & df.stop.notnull()]\n",
    "df.sort_values(['start','stop'],inplace=True)\n",
    "df.drop_duplicates(subset=[\"start\",\"impact_bps\",\"impact_pps\"],inplace=True)\n",
    "# Filter out small bps attacks\n",
    "df = df[df.impact_bps>32*df.impact_pps]\n",
    "#filter out attacks bigger than 800Gbps\n",
    "df = df[df.impact_gbps<1200]\n",
    "df = df[~df.duration.isnull()]"
   ]
  },
  {
   "cell_type": "code",
   "execution_count": 6,
   "metadata": {
    "collapsed": true,
    "deletable": true,
    "editable": true
   },
   "outputs": [],
   "source": [
    "df['triggers'] = [[trigger['name'] for trigger in triggers]\n",
    "                  if len(triggers)>0 else None for triggers in df.triggers.values]\n",
    "    \n",
    "# get duration as float and log interfaces and routers\n",
    "df[\"start_f\"] = df.start.values.astype(float)/(1e9*3600*24)\n",
    "df[\"duration_f\"] = df.duration.values.astype(float)/(1e9*3600*24)\n",
    "df['lg_interface'] = np.log10(1+df['infrastructure_num_interfaces'].values)\n",
    "df['lg_routers'] = np.log10(1+df['infrastructure_num_routers'].values)\n",
    "df['cc_idx'] = df.dest_country_codes.astype('category').cat.codes.values"
   ]
  },
  {
   "cell_type": "code",
   "execution_count": 7,
   "metadata": {
    "collapsed": false,
    "deletable": true,
    "editable": true
   },
   "outputs": [
    {
     "data": {
      "text/html": [
       "<div>\n",
       "<table border=\"1\" class=\"dataframe\">\n",
       "  <thead>\n",
       "    <tr style=\"text-align: right;\">\n",
       "      <th></th>\n",
       "      <th>dest_country_codes</th>\n",
       "      <th>direction_type</th>\n",
       "      <th>impact_bps</th>\n",
       "      <th>impact_pps</th>\n",
       "      <th>infrastructure_num_interfaces</th>\n",
       "      <th>infrastructure_num_routers</th>\n",
       "      <th>source_country_codes</th>\n",
       "      <th>start</th>\n",
       "      <th>stop</th>\n",
       "      <th>triggers</th>\n",
       "      <th>duration</th>\n",
       "      <th>impact_gbps</th>\n",
       "      <th>lg_impact_gbps</th>\n",
       "      <th>lg_impact_pps</th>\n",
       "      <th>start_f</th>\n",
       "      <th>duration_f</th>\n",
       "      <th>lg_interface</th>\n",
       "      <th>lg_routers</th>\n",
       "      <th>cc_idx</th>\n",
       "    </tr>\n",
       "  </thead>\n",
       "  <tbody>\n",
       "    <tr>\n",
       "      <th>80079</th>\n",
       "      <td>BA</td>\n",
       "      <td>Incoming</td>\n",
       "      <td>80795088.0</td>\n",
       "      <td>9646.0</td>\n",
       "      <td>2.0</td>\n",
       "      <td>1.0</td>\n",
       "      <td>[IN, ID, EG, BG, TR, MY, IL, TW, ES, NA, US, S...</td>\n",
       "      <td>2016-01-01 00:00:05</td>\n",
       "      <td>2016-01-01 00:05:28</td>\n",
       "      <td>[TCP SYN]</td>\n",
       "      <td>00:05:23</td>\n",
       "      <td>0.080795</td>\n",
       "      <td>-1.092615</td>\n",
       "      <td>3.984347</td>\n",
       "      <td>16801.000058</td>\n",
       "      <td>0.003738</td>\n",
       "      <td>0.477121</td>\n",
       "      <td>0.30103</td>\n",
       "      <td>15</td>\n",
       "    </tr>\n",
       "    <tr>\n",
       "      <th>148</th>\n",
       "      <td>CO</td>\n",
       "      <td>Incoming</td>\n",
       "      <td>77679520.0</td>\n",
       "      <td>7297.0</td>\n",
       "      <td>0.0</td>\n",
       "      <td>0.0</td>\n",
       "      <td>[]</td>\n",
       "      <td>2016-01-01 00:00:26</td>\n",
       "      <td>2016-01-01 00:40:56</td>\n",
       "      <td>[IP Fragmentation]</td>\n",
       "      <td>00:40:30</td>\n",
       "      <td>0.077680</td>\n",
       "      <td>-1.109693</td>\n",
       "      <td>3.863144</td>\n",
       "      <td>16801.000301</td>\n",
       "      <td>0.028125</td>\n",
       "      <td>0.000000</td>\n",
       "      <td>0.00000</td>\n",
       "      <td>36</td>\n",
       "    </tr>\n",
       "    <tr>\n",
       "      <th>59961</th>\n",
       "      <td>KR</td>\n",
       "      <td>Outgoing</td>\n",
       "      <td>990187520.0</td>\n",
       "      <td>131583.0</td>\n",
       "      <td>16.0</td>\n",
       "      <td>1.0</td>\n",
       "      <td>[KR]</td>\n",
       "      <td>2016-01-01 00:00:43</td>\n",
       "      <td>2016-01-01 00:08:11</td>\n",
       "      <td>[UDP]</td>\n",
       "      <td>00:07:28</td>\n",
       "      <td>0.990188</td>\n",
       "      <td>-0.004283</td>\n",
       "      <td>5.119200</td>\n",
       "      <td>16801.000498</td>\n",
       "      <td>0.005185</td>\n",
       "      <td>1.230449</td>\n",
       "      <td>0.30103</td>\n",
       "      <td>96</td>\n",
       "    </tr>\n",
       "    <tr>\n",
       "      <th>40475</th>\n",
       "      <td>KE</td>\n",
       "      <td>Incoming</td>\n",
       "      <td>175704624.0</td>\n",
       "      <td>23007.0</td>\n",
       "      <td>0.0</td>\n",
       "      <td>0.0</td>\n",
       "      <td>[]</td>\n",
       "      <td>2016-01-01 00:00:45</td>\n",
       "      <td>2016-01-01 00:04:59</td>\n",
       "      <td>[TCP SYN]</td>\n",
       "      <td>00:04:14</td>\n",
       "      <td>0.175705</td>\n",
       "      <td>-0.755217</td>\n",
       "      <td>4.361860</td>\n",
       "      <td>16801.000521</td>\n",
       "      <td>0.002940</td>\n",
       "      <td>0.000000</td>\n",
       "      <td>0.00000</td>\n",
       "      <td>91</td>\n",
       "    </tr>\n",
       "    <tr>\n",
       "      <th>41167</th>\n",
       "      <td>CN</td>\n",
       "      <td>Incoming</td>\n",
       "      <td>410165664.0</td>\n",
       "      <td>54776.0</td>\n",
       "      <td>2.0</td>\n",
       "      <td>1.0</td>\n",
       "      <td>[DE]</td>\n",
       "      <td>2016-01-01 00:00:45</td>\n",
       "      <td>2016-01-01 00:11:27</td>\n",
       "      <td>[TCP SYN, Total Traffic]</td>\n",
       "      <td>00:10:42</td>\n",
       "      <td>0.410166</td>\n",
       "      <td>-0.387041</td>\n",
       "      <td>4.738590</td>\n",
       "      <td>16801.000521</td>\n",
       "      <td>0.007431</td>\n",
       "      <td>0.477121</td>\n",
       "      <td>0.30103</td>\n",
       "      <td>35</td>\n",
       "    </tr>\n",
       "  </tbody>\n",
       "</table>\n",
       "</div>"
      ],
      "text/plain": [
       "      dest_country_codes direction_type   impact_bps  impact_pps  \\\n",
       "80079                 BA       Incoming   80795088.0      9646.0   \n",
       "148                   CO       Incoming   77679520.0      7297.0   \n",
       "59961                 KR       Outgoing  990187520.0    131583.0   \n",
       "40475                 KE       Incoming  175704624.0     23007.0   \n",
       "41167                 CN       Incoming  410165664.0     54776.0   \n",
       "\n",
       "       infrastructure_num_interfaces  infrastructure_num_routers  \\\n",
       "80079                            2.0                         1.0   \n",
       "148                              0.0                         0.0   \n",
       "59961                           16.0                         1.0   \n",
       "40475                            0.0                         0.0   \n",
       "41167                            2.0                         1.0   \n",
       "\n",
       "                                    source_country_codes               start  \\\n",
       "80079  [IN, ID, EG, BG, TR, MY, IL, TW, ES, NA, US, S... 2016-01-01 00:00:05   \n",
       "148                                                   [] 2016-01-01 00:00:26   \n",
       "59961                                               [KR] 2016-01-01 00:00:43   \n",
       "40475                                                 [] 2016-01-01 00:00:45   \n",
       "41167                                               [DE] 2016-01-01 00:00:45   \n",
       "\n",
       "                     stop                  triggers  duration  impact_gbps  \\\n",
       "80079 2016-01-01 00:05:28                 [TCP SYN]  00:05:23     0.080795   \n",
       "148   2016-01-01 00:40:56        [IP Fragmentation]  00:40:30     0.077680   \n",
       "59961 2016-01-01 00:08:11                     [UDP]  00:07:28     0.990188   \n",
       "40475 2016-01-01 00:04:59                 [TCP SYN]  00:04:14     0.175705   \n",
       "41167 2016-01-01 00:11:27  [TCP SYN, Total Traffic]  00:10:42     0.410166   \n",
       "\n",
       "       lg_impact_gbps  lg_impact_pps       start_f  duration_f  lg_interface  \\\n",
       "80079       -1.092615       3.984347  16801.000058    0.003738      0.477121   \n",
       "148         -1.109693       3.863144  16801.000301    0.028125      0.000000   \n",
       "59961       -0.004283       5.119200  16801.000498    0.005185      1.230449   \n",
       "40475       -0.755217       4.361860  16801.000521    0.002940      0.000000   \n",
       "41167       -0.387041       4.738590  16801.000521    0.007431      0.477121   \n",
       "\n",
       "       lg_routers  cc_idx  \n",
       "80079     0.30103      15  \n",
       "148       0.00000      36  \n",
       "59961     0.30103      96  \n",
       "40475     0.00000      91  \n",
       "41167     0.30103      35  "
      ]
     },
     "execution_count": 7,
     "metadata": {},
     "output_type": "execute_result"
    }
   ],
   "source": [
    "df.head()"
   ]
  },
  {
   "cell_type": "markdown",
   "metadata": {},
   "source": [
    "## Check correlation of variables"
   ]
  },
  {
   "cell_type": "markdown",
   "metadata": {},
   "source": [
    "## Plot some histograms"
   ]
  },
  {
   "cell_type": "markdown",
   "metadata": {},
   "source": [
    "## What are the most prominent Countries in attacks"
   ]
  },
  {
   "cell_type": "markdown",
   "metadata": {},
   "source": [
    "## Fit the model to predict log impact gbps"
   ]
  },
  {
   "cell_type": "code",
   "execution_count": 2,
   "metadata": {
    "collapsed": false,
    "deletable": true,
    "editable": true
   },
   "outputs": [],
   "source": [
    "# Todo: \n",
    "# Grab the x data (anything that is not categorical)\n",
    "# Grab the categorical data\n",
    "# grab the y variable\n",
    "\n",
    "# scale the xs and ys to have mean 0 and stddev 1 (StandardScaler) \n",
    "#split all of above in training and testing (train_test_split)"
   ]
  },
  {
   "cell_type": "code",
   "execution_count": 14,
   "metadata": {
    "collapsed": true,
    "deletable": true,
    "editable": true
   },
   "outputs": [],
   "source": [
    "def r2(y_true, y_pred):\n",
    "    e = y_true - y_pred\n",
    "    return 1 - K.mean(K.square(e),axis=-1)/K.var(y_true)"
   ]
  },
  {
   "cell_type": "code",
   "execution_count": 15,
   "metadata": {
    "collapsed": false,
    "deletable": true,
    "editable": true
   },
   "outputs": [
    {
     "name": "stderr",
     "output_type": "stream",
     "text": [
      "/root/miniconda3/lib/python3.6/site-packages/ipykernel/__main__.py:9: UserWarning: Update your `Dense` call to the Keras 2 API: `Dense(input_dim=5, units=32)`\n",
      "/root/miniconda3/lib/python3.6/site-packages/ipykernel/__main__.py:12: UserWarning: The `Merge` layer is deprecated and will be removed after 08/2017. Use instead layers from `keras.layers.merge`, e.g. `add`, `concatenate`, etc.\n"
     ]
    }
   ],
   "source": [
    "# Todo: complete the rest of the model\n",
    "\n",
    "model.compile(loss=\"mse\", optimizer='adagrad', metrics=[r2])"
   ]
  },
  {
   "cell_type": "code",
   "execution_count": null,
   "metadata": {
    "collapsed": true,
    "deletable": true,
    "editable": true
   },
   "outputs": [],
   "source": [
    "# Todo: test the model on test data"
   ]
  }
 ],
 "metadata": {
  "anaconda-cloud": {},
  "kernelspec": {
   "display_name": "Python 3",
   "language": "python",
   "name": "python3"
  },
  "language_info": {
   "codemirror_mode": {
    "name": "ipython",
    "version": 3
   },
   "file_extension": ".py",
   "mimetype": "text/x-python",
   "name": "python",
   "nbconvert_exporter": "python",
   "pygments_lexer": "ipython3",
   "version": "3.6.0"
  },
  "latex_envs": {
   "bibliofile": "biblio.bib",
   "cite_by": "apalike",
   "current_citInitial": 1,
   "eqLabelWithNumbers": true,
   "eqNumInitial": 0
  }
 },
 "nbformat": 4,
 "nbformat_minor": 2
}
